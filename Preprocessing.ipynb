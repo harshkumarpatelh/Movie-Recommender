{
 "cells": [
  {
   "cell_type": "markdown",
   "id": "79c091f4",
   "metadata": {},
   "source": [
    "### Source Data "
   ]
  },
  {
   "cell_type": "markdown",
   "id": "e4fa6ac8",
   "metadata": {},
   "source": [
    "#### MovieLens 25M Dataset\n",
    "MovieLens 25M movie ratings. Stable benchmark dataset. 25 million ratings and one million tag applications applied to 62,000 movies by 162,000 users. Includes tag genome data with 15 million relevance scores across 1,129 tags. Released 12/2019"
   ]
  },
  {
   "cell_type": "markdown",
   "id": "c54cb8ea",
   "metadata": {},
   "source": [
    "[Movie Dataset link](https://grouplens.org/datasets/movielens/25m/)"
   ]
  },
  {
   "cell_type": "code",
   "execution_count": 14,
   "id": "ee026007",
   "metadata": {},
   "outputs": [],
   "source": [
    "import pandas as pd\n",
    "import numpy as np\n",
    "import re\n",
    "import joblib"
   ]
  },
  {
   "cell_type": "code",
   "execution_count": 2,
   "id": "b33ee00e",
   "metadata": {},
   "outputs": [],
   "source": [
    "# import zipfile\n",
    "# z = zipfile.ZipFile('ml-25m.zip')\n",
    "# z.extractall()\n",
    "# z.close()"
   ]
  },
  {
   "cell_type": "markdown",
   "id": "0616dac9",
   "metadata": {},
   "source": [
    "### Reading Movie data"
   ]
  },
  {
   "cell_type": "code",
   "execution_count": 15,
   "id": "a86d810b",
   "metadata": {},
   "outputs": [],
   "source": [
    "movie = pd.read_csv('ml-25m\\movies.csv')"
   ]
  },
  {
   "cell_type": "code",
   "execution_count": 4,
   "id": "c5b676aa",
   "metadata": {
    "scrolled": true
   },
   "outputs": [
    {
     "data": {
      "text/html": [
       "<div>\n",
       "<style scoped>\n",
       "    .dataframe tbody tr th:only-of-type {\n",
       "        vertical-align: middle;\n",
       "    }\n",
       "\n",
       "    .dataframe tbody tr th {\n",
       "        vertical-align: top;\n",
       "    }\n",
       "\n",
       "    .dataframe thead th {\n",
       "        text-align: right;\n",
       "    }\n",
       "</style>\n",
       "<table border=\"1\" class=\"dataframe\">\n",
       "  <thead>\n",
       "    <tr style=\"text-align: right;\">\n",
       "      <th></th>\n",
       "      <th>movieId</th>\n",
       "      <th>title</th>\n",
       "      <th>genres</th>\n",
       "    </tr>\n",
       "  </thead>\n",
       "  <tbody>\n",
       "    <tr>\n",
       "      <th>0</th>\n",
       "      <td>1</td>\n",
       "      <td>Toy Story (1995)</td>\n",
       "      <td>Adventure|Animation|Children|Comedy|Fantasy</td>\n",
       "    </tr>\n",
       "    <tr>\n",
       "      <th>1</th>\n",
       "      <td>2</td>\n",
       "      <td>Jumanji (1995)</td>\n",
       "      <td>Adventure|Children|Fantasy</td>\n",
       "    </tr>\n",
       "    <tr>\n",
       "      <th>2</th>\n",
       "      <td>3</td>\n",
       "      <td>Grumpier Old Men (1995)</td>\n",
       "      <td>Comedy|Romance</td>\n",
       "    </tr>\n",
       "    <tr>\n",
       "      <th>3</th>\n",
       "      <td>4</td>\n",
       "      <td>Waiting to Exhale (1995)</td>\n",
       "      <td>Comedy|Drama|Romance</td>\n",
       "    </tr>\n",
       "    <tr>\n",
       "      <th>4</th>\n",
       "      <td>5</td>\n",
       "      <td>Father of the Bride Part II (1995)</td>\n",
       "      <td>Comedy</td>\n",
       "    </tr>\n",
       "  </tbody>\n",
       "</table>\n",
       "</div>"
      ],
      "text/plain": [
       "   movieId                               title  \\\n",
       "0        1                    Toy Story (1995)   \n",
       "1        2                      Jumanji (1995)   \n",
       "2        3             Grumpier Old Men (1995)   \n",
       "3        4            Waiting to Exhale (1995)   \n",
       "4        5  Father of the Bride Part II (1995)   \n",
       "\n",
       "                                        genres  \n",
       "0  Adventure|Animation|Children|Comedy|Fantasy  \n",
       "1                   Adventure|Children|Fantasy  \n",
       "2                               Comedy|Romance  \n",
       "3                         Comedy|Drama|Romance  \n",
       "4                                       Comedy  "
      ]
     },
     "execution_count": 4,
     "metadata": {},
     "output_type": "execute_result"
    }
   ],
   "source": [
    "movie.head()"
   ]
  },
  {
   "cell_type": "code",
   "execution_count": 5,
   "id": "ad937ed1",
   "metadata": {},
   "outputs": [
    {
     "data": {
      "text/plain": [
       "movieId    0\n",
       "title      0\n",
       "genres     0\n",
       "dtype: int64"
      ]
     },
     "execution_count": 5,
     "metadata": {},
     "output_type": "execute_result"
    }
   ],
   "source": [
    "movie.isnull().sum()"
   ]
  },
  {
   "cell_type": "code",
   "execution_count": 16,
   "id": "f7760179",
   "metadata": {},
   "outputs": [],
   "source": [
    "def clean_title(title):\n",
    "    return re.sub('[^a-zA-Z ]','',title) "
   ]
  },
  {
   "cell_type": "code",
   "execution_count": 17,
   "id": "c3f99177",
   "metadata": {},
   "outputs": [],
   "source": [
    "movie['clean_title'] = movie.title.apply(clean_title) # removing unnecessory character for better search optimization"
   ]
  },
  {
   "cell_type": "code",
   "execution_count": 18,
   "id": "42440240",
   "metadata": {
    "scrolled": true
   },
   "outputs": [
    {
     "data": {
      "text/html": [
       "<div>\n",
       "<style scoped>\n",
       "    .dataframe tbody tr th:only-of-type {\n",
       "        vertical-align: middle;\n",
       "    }\n",
       "\n",
       "    .dataframe tbody tr th {\n",
       "        vertical-align: top;\n",
       "    }\n",
       "\n",
       "    .dataframe thead th {\n",
       "        text-align: right;\n",
       "    }\n",
       "</style>\n",
       "<table border=\"1\" class=\"dataframe\">\n",
       "  <thead>\n",
       "    <tr style=\"text-align: right;\">\n",
       "      <th></th>\n",
       "      <th>movieId</th>\n",
       "      <th>title</th>\n",
       "      <th>genres</th>\n",
       "      <th>clean_title</th>\n",
       "    </tr>\n",
       "  </thead>\n",
       "  <tbody>\n",
       "    <tr>\n",
       "      <th>0</th>\n",
       "      <td>1</td>\n",
       "      <td>Toy Story (1995)</td>\n",
       "      <td>Adventure|Animation|Children|Comedy|Fantasy</td>\n",
       "      <td>Toy Story</td>\n",
       "    </tr>\n",
       "    <tr>\n",
       "      <th>1</th>\n",
       "      <td>2</td>\n",
       "      <td>Jumanji (1995)</td>\n",
       "      <td>Adventure|Children|Fantasy</td>\n",
       "      <td>Jumanji</td>\n",
       "    </tr>\n",
       "    <tr>\n",
       "      <th>2</th>\n",
       "      <td>3</td>\n",
       "      <td>Grumpier Old Men (1995)</td>\n",
       "      <td>Comedy|Romance</td>\n",
       "      <td>Grumpier Old Men</td>\n",
       "    </tr>\n",
       "    <tr>\n",
       "      <th>3</th>\n",
       "      <td>4</td>\n",
       "      <td>Waiting to Exhale (1995)</td>\n",
       "      <td>Comedy|Drama|Romance</td>\n",
       "      <td>Waiting to Exhale</td>\n",
       "    </tr>\n",
       "    <tr>\n",
       "      <th>4</th>\n",
       "      <td>5</td>\n",
       "      <td>Father of the Bride Part II (1995)</td>\n",
       "      <td>Comedy</td>\n",
       "      <td>Father of the Bride Part II</td>\n",
       "    </tr>\n",
       "  </tbody>\n",
       "</table>\n",
       "</div>"
      ],
      "text/plain": [
       "   movieId                               title  \\\n",
       "0        1                    Toy Story (1995)   \n",
       "1        2                      Jumanji (1995)   \n",
       "2        3             Grumpier Old Men (1995)   \n",
       "3        4            Waiting to Exhale (1995)   \n",
       "4        5  Father of the Bride Part II (1995)   \n",
       "\n",
       "                                        genres                   clean_title  \n",
       "0  Adventure|Animation|Children|Comedy|Fantasy                    Toy Story   \n",
       "1                   Adventure|Children|Fantasy                      Jumanji   \n",
       "2                               Comedy|Romance             Grumpier Old Men   \n",
       "3                         Comedy|Drama|Romance            Waiting to Exhale   \n",
       "4                                       Comedy  Father of the Bride Part II   "
      ]
     },
     "execution_count": 18,
     "metadata": {},
     "output_type": "execute_result"
    }
   ],
   "source": [
    "movie.head()"
   ]
  },
  {
   "cell_type": "code",
   "execution_count": 9,
   "id": "67d08739",
   "metadata": {},
   "outputs": [],
   "source": [
    "movie[['movieId','clean_title','genres']].to_csv('clean_movie.csv',index = False) # index = False -> so that no extra column added"
   ]
  },
  {
   "cell_type": "code",
   "execution_count": 19,
   "id": "b06ee375",
   "metadata": {
    "scrolled": false
   },
   "outputs": [
    {
     "data": {
      "text/plain": [
       "(62423, 4)"
      ]
     },
     "execution_count": 19,
     "metadata": {},
     "output_type": "execute_result"
    }
   ],
   "source": [
    "movie.shape"
   ]
  },
  {
   "cell_type": "markdown",
   "id": "cdda2ce6",
   "metadata": {},
   "source": [
    "### Date enconding"
   ]
  },
  {
   "cell_type": "code",
   "execution_count": 20,
   "id": "e563effe",
   "metadata": {},
   "outputs": [],
   "source": [
    "from sklearn.feature_extraction.text import TfidfVectorizer\n",
    "\n",
    "vector = TfidfVectorizer(ngram_range=(1, 2))\n",
    "vec_metric = vector.fit_transform(movie['clean_title'])# Encoding movie title for thre use of search engine"
   ]
  },
  {
   "cell_type": "code",
   "execution_count": 67,
   "id": "990be3d9",
   "metadata": {},
   "outputs": [
    {
     "data": {
      "text/plain": [
       "['vec_metric.pkl']"
      ]
     },
     "execution_count": 67,
     "metadata": {},
     "output_type": "execute_result"
    }
   ],
   "source": [
    "joblib.dump(vector,'vectorizer.pkl')\n",
    "joblib.dump(vec_metric,'vec_metric.pkl')"
   ]
  },
  {
   "cell_type": "code",
   "execution_count": 21,
   "id": "4c24a42f",
   "metadata": {},
   "outputs": [
    {
     "data": {
      "text/plain": [
       "scipy.sparse._csr.csr_matrix"
      ]
     },
     "execution_count": 21,
     "metadata": {},
     "output_type": "execute_result"
    }
   ],
   "source": [
    "type(vec_metric)"
   ]
  },
  {
   "cell_type": "code",
   "execution_count": 22,
   "id": "9fe8d17f",
   "metadata": {},
   "outputs": [
    {
     "data": {
      "text/plain": [
       "<62423x117744 sparse matrix of type '<class 'numpy.float64'>'\n",
       "\twith 320037 stored elements in Compressed Sparse Row format>"
      ]
     },
     "execution_count": 22,
     "metadata": {},
     "output_type": "execute_result"
    }
   ],
   "source": [
    "vec_metric"
   ]
  },
  {
   "cell_type": "markdown",
   "id": "9f6c1ee8",
   "metadata": {},
   "source": [
    "### Search Engine"
   ]
  },
  {
   "cell_type": "code",
   "execution_count": 33,
   "id": "9584f840",
   "metadata": {},
   "outputs": [],
   "source": [
    "from sklearn.metrics.pairwise import cosine_similarity\n",
    "def search(title):\n",
    "    title = clean_title(title)\n",
    "    query_vec= vector.transform([title])\n",
    "    similarity = cosine_similarity(query_vec,vec_metric).flatten() # flatten is used get 1D array\n",
    "    indices = np.argpartition(similarity,-5)[-5:]\n",
    "    result  = movie.iloc[indices][::-1] # most similar listed first\n",
    "    return result"
   ]
  },
  {
   "cell_type": "markdown",
   "id": "ded0ca95",
   "metadata": {},
   "source": [
    "### Display search"
   ]
  },
  {
   "cell_type": "code",
   "execution_count": 34,
   "id": "9d49fdbd",
   "metadata": {},
   "outputs": [
    {
     "name": "stdout",
     "output_type": "stream",
     "text": [
      "Type atleat three letter\n"
     ]
    },
    {
     "data": {
      "application/vnd.jupyter.widget-view+json": {
       "model_id": "9ca3f633e9274f8695be1b3389f83b3e",
       "version_major": 2,
       "version_minor": 0
      },
      "text/plain": [
       "Text(value='', description='Movie Title : ')"
      ]
     },
     "metadata": {},
     "output_type": "display_data"
    },
    {
     "data": {
      "application/vnd.jupyter.widget-view+json": {
       "model_id": "df1400f3566b425088dc40be30ffc9c2",
       "version_major": 2,
       "version_minor": 0
      },
      "text/plain": [
       "Output()"
      ]
     },
     "metadata": {},
     "output_type": "display_data"
    }
   ],
   "source": [
    "import ipywidgets as widgets\n",
    "from IPython.display import display\n",
    "\n",
    "\n",
    "print('Type atleat three letter')\n",
    "movie_input = widgets.Text(\n",
    "value = '',\n",
    "description = 'Movie Title : ',\n",
    "disabled = False\n",
    ")\n",
    "\n",
    "movie_list = widgets.Output()\n",
    "\n",
    "def on_typ(data):\n",
    "    with movie_list:\n",
    "        movie_list.clear_output()\n",
    "        title = data[\"new\"]\n",
    "        if len(title)>2:\n",
    "            display(search(title))\n",
    "\n",
    "\n",
    "movie_input.observe(on_typ,names ='value')\n",
    "display(movie_input,movie_list)\n"
   ]
  },
  {
   "cell_type": "markdown",
   "id": "767f103d",
   "metadata": {},
   "source": [
    "### Reading ratings file of movies rated by all users"
   ]
  },
  {
   "cell_type": "code",
   "execution_count": 3,
   "id": "9a4ea0c6",
   "metadata": {},
   "outputs": [],
   "source": [
    "ratings = pd.read_csv('ml-25m/ratings.csv')"
   ]
  },
  {
   "cell_type": "code",
   "execution_count": 29,
   "id": "d640f978",
   "metadata": {
    "scrolled": true
   },
   "outputs": [
    {
     "data": {
      "text/html": [
       "<div>\n",
       "<style scoped>\n",
       "    .dataframe tbody tr th:only-of-type {\n",
       "        vertical-align: middle;\n",
       "    }\n",
       "\n",
       "    .dataframe tbody tr th {\n",
       "        vertical-align: top;\n",
       "    }\n",
       "\n",
       "    .dataframe thead th {\n",
       "        text-align: right;\n",
       "    }\n",
       "</style>\n",
       "<table border=\"1\" class=\"dataframe\">\n",
       "  <thead>\n",
       "    <tr style=\"text-align: right;\">\n",
       "      <th></th>\n",
       "      <th>userId</th>\n",
       "      <th>movieId</th>\n",
       "      <th>rating</th>\n",
       "      <th>timestamp</th>\n",
       "    </tr>\n",
       "  </thead>\n",
       "  <tbody>\n",
       "    <tr>\n",
       "      <th>25000090</th>\n",
       "      <td>162541</td>\n",
       "      <td>50872</td>\n",
       "      <td>4.5</td>\n",
       "      <td>1240953372</td>\n",
       "    </tr>\n",
       "    <tr>\n",
       "      <th>25000091</th>\n",
       "      <td>162541</td>\n",
       "      <td>55768</td>\n",
       "      <td>2.5</td>\n",
       "      <td>1240951998</td>\n",
       "    </tr>\n",
       "    <tr>\n",
       "      <th>25000092</th>\n",
       "      <td>162541</td>\n",
       "      <td>56176</td>\n",
       "      <td>2.0</td>\n",
       "      <td>1240950697</td>\n",
       "    </tr>\n",
       "    <tr>\n",
       "      <th>25000093</th>\n",
       "      <td>162541</td>\n",
       "      <td>58559</td>\n",
       "      <td>4.0</td>\n",
       "      <td>1240953434</td>\n",
       "    </tr>\n",
       "    <tr>\n",
       "      <th>25000094</th>\n",
       "      <td>162541</td>\n",
       "      <td>63876</td>\n",
       "      <td>5.0</td>\n",
       "      <td>1240952515</td>\n",
       "    </tr>\n",
       "  </tbody>\n",
       "</table>\n",
       "</div>"
      ],
      "text/plain": [
       "          userId  movieId  rating   timestamp\n",
       "25000090  162541    50872     4.5  1240953372\n",
       "25000091  162541    55768     2.5  1240951998\n",
       "25000092  162541    56176     2.0  1240950697\n",
       "25000093  162541    58559     4.0  1240953434\n",
       "25000094  162541    63876     5.0  1240952515"
      ]
     },
     "execution_count": 29,
     "metadata": {},
     "output_type": "execute_result"
    }
   ],
   "source": [
    "ratings.tail()"
   ]
  },
  {
   "cell_type": "code",
   "execution_count": 6,
   "id": "474de09e",
   "metadata": {},
   "outputs": [
    {
     "data": {
      "text/plain": [
       "(25000095, 4)"
      ]
     },
     "execution_count": 6,
     "metadata": {},
     "output_type": "execute_result"
    }
   ],
   "source": [
    "ratings.shape"
   ]
  },
  {
   "cell_type": "code",
   "execution_count": 13,
   "id": "be202a4a",
   "metadata": {},
   "outputs": [],
   "source": [
    "ratings[ratings['rating']>=4][['userId','movieId','rating']].to_csv('ratings.csv',index = False) #saving for deployment"
   ]
  },
  {
   "cell_type": "code",
   "execution_count": 30,
   "id": "4d748460",
   "metadata": {},
   "outputs": [
    {
     "data": {
      "text/plain": [
       "userId       0\n",
       "movieId      0\n",
       "rating       0\n",
       "timestamp    0\n",
       "dtype: int64"
      ]
     },
     "execution_count": 30,
     "metadata": {},
     "output_type": "execute_result"
    }
   ],
   "source": [
    "ratings.isnull().sum()"
   ]
  },
  {
   "cell_type": "code",
   "execution_count": 31,
   "id": "2c563378",
   "metadata": {},
   "outputs": [
    {
     "data": {
      "text/plain": [
       "(25000095, 4)"
      ]
     },
     "execution_count": 31,
     "metadata": {},
     "output_type": "execute_result"
    }
   ],
   "source": [
    "ratings.shape"
   ]
  },
  {
   "cell_type": "code",
   "execution_count": 32,
   "id": "acd753b0",
   "metadata": {
    "scrolled": true
   },
   "outputs": [
    {
     "data": {
      "text/plain": [
       "userId         int64\n",
       "movieId        int64\n",
       "rating       float64\n",
       "timestamp      int64\n",
       "dtype: object"
      ]
     },
     "execution_count": 32,
     "metadata": {},
     "output_type": "execute_result"
    }
   ],
   "source": [
    "ratings.dtypes"
   ]
  },
  {
   "cell_type": "code",
   "execution_count": 33,
   "id": "3a5625d4",
   "metadata": {},
   "outputs": [
    {
     "data": {
      "text/plain": [
       "array([     3,      5,      8, ..., 162530, 162533, 162534], dtype=int64)"
      ]
     },
     "execution_count": 33,
     "metadata": {},
     "output_type": "execute_result"
    }
   ],
   "source": [
    "movieId = 1\n",
    "# it is a list of user who have rated 4 or more on given movieId\n",
    "similar_user = ratings[(ratings['movieId']==movieId) &(ratings['rating']>=4) ]['userId'].unique() # unique method return a sorted array\n",
    "similar_user                                                                                      #with unique values"
   ]
  },
  {
   "cell_type": "code",
   "execution_count": 34,
   "id": "22d93a63",
   "metadata": {},
   "outputs": [
    {
     "data": {
      "text/plain": [
       "37709"
      ]
     },
     "execution_count": 34,
     "metadata": {},
     "output_type": "execute_result"
    }
   ],
   "source": [
    "len(similar_user)"
   ]
  },
  {
   "cell_type": "code",
   "execution_count": 35,
   "id": "74b18920",
   "metadata": {},
   "outputs": [
    {
     "data": {
      "text/plain": [
       "254              1\n",
       "255             29\n",
       "256             32\n",
       "257             50\n",
       "258            111\n",
       "             ...  \n",
       "24999332    166643\n",
       "24999342    171763\n",
       "24999348    177593\n",
       "24999351    177765\n",
       "24999378    198609\n",
       "Name: movieId, Length: 5101989, dtype: int64"
      ]
     },
     "execution_count": 35,
     "metadata": {},
     "output_type": "execute_result"
    }
   ],
   "source": [
    "# finding list of movieId rated 4 or more by 'similar_user'\n",
    "similar_user_rec = ratings[(ratings['rating'] >=4 ) & (ratings['userId'].isin(similar_user))]['movieId']   #['userId'].value_counts() \n",
    "similar_user_rec   # similar_user_rec -> similar_user_recommendation"
   ]
  },
  {
   "cell_type": "code",
   "execution_count": 36,
   "id": "4096e45c",
   "metadata": {},
   "outputs": [
    {
     "data": {
      "text/plain": [
       "movieId\n",
       "1       1.000000\n",
       "318     0.549604\n",
       "260     0.531518\n",
       "356     0.517224\n",
       "296     0.495744\n",
       "          ...   \n",
       "235     0.101249\n",
       "1242    0.100931\n",
       "1907    0.100772\n",
       "3527    0.100613\n",
       "2761    0.100135\n",
       "Name: count, Length: 273, dtype: float64"
      ]
     },
     "execution_count": 36,
     "metadata": {},
     "output_type": "execute_result"
    }
   ],
   "source": [
    "similar_user_rec = similar_user_rec.value_counts()/len(similar_user) # %age of similar users like a particular movieId\n",
    "# finding those movie which are liked by 10% or above similar users\n",
    "similar_user_rec = similar_user_rec[similar_user_rec >0.1]\n",
    "similar_user_rec"
   ]
  },
  {
   "cell_type": "markdown",
   "id": "ce96628f",
   "metadata": {},
   "source": [
    "Here we get 273 movie recommended by similar people but it is not exact match to search movie because they also rated other \n",
    "movie with same rating on their own interest but that movie may not be similar to searched movie."
   ]
  },
  {
   "cell_type": "code",
   "execution_count": 37,
   "id": "4c03925d",
   "metadata": {},
   "outputs": [
    {
     "data": {
      "text/plain": [
       "movieId\n",
       "318     0.440215\n",
       "296     0.389659\n",
       "356     0.367553\n",
       "593     0.361897\n",
       "2571    0.347994\n",
       "          ...   \n",
       "3175    0.049325\n",
       "2081    0.047128\n",
       "1282    0.044712\n",
       "2761    0.039855\n",
       "1907    0.039805\n",
       "Name: count, Length: 273, dtype: float64"
      ]
     },
     "execution_count": 37,
     "metadata": {},
     "output_type": "execute_result"
    }
   ],
   "source": [
    "# finding how much all user like these 273 movie\n",
    "\n",
    "all_user = ratings[(ratings['movieId'].isin(similar_user_rec.index)) &(ratings['rating']>=4)] #list of users like the above movie\n",
    "all_user['movieId'].value_counts() # counting how many user rated a single movie\n",
    "\n",
    "all_user_rec = all_user['movieId'].value_counts()/len(all_user['userId'].unique()) # %age of user like a single movie\n",
    "all_user_rec # all_user_rec -> all_users_recommendation"
   ]
  },
  {
   "cell_type": "markdown",
   "id": "7e0c71b9",
   "metadata": {},
   "source": [
    "Here this stats shows how much %age single movie by all users exist in data and rated it\n",
    "e.g movieId = 318 are rated >4 and among all users 44% like it"
   ]
  },
  {
   "cell_type": "code",
   "execution_count": 38,
   "id": "f7264161",
   "metadata": {},
   "outputs": [
    {
     "data": {
      "text/html": [
       "<div>\n",
       "<style scoped>\n",
       "    .dataframe tbody tr th:only-of-type {\n",
       "        vertical-align: middle;\n",
       "    }\n",
       "\n",
       "    .dataframe tbody tr th {\n",
       "        vertical-align: top;\n",
       "    }\n",
       "\n",
       "    .dataframe thead th {\n",
       "        text-align: right;\n",
       "    }\n",
       "</style>\n",
       "<table border=\"1\" class=\"dataframe\">\n",
       "  <thead>\n",
       "    <tr style=\"text-align: right;\">\n",
       "      <th></th>\n",
       "      <th>similar</th>\n",
       "      <th>all</th>\n",
       "    </tr>\n",
       "    <tr>\n",
       "      <th>movieId</th>\n",
       "      <th></th>\n",
       "      <th></th>\n",
       "    </tr>\n",
       "  </thead>\n",
       "  <tbody>\n",
       "    <tr>\n",
       "      <th>1</th>\n",
       "      <td>1.000000</td>\n",
       "      <td>0.235415</td>\n",
       "    </tr>\n",
       "    <tr>\n",
       "      <th>318</th>\n",
       "      <td>0.549604</td>\n",
       "      <td>0.440215</td>\n",
       "    </tr>\n",
       "    <tr>\n",
       "      <th>260</th>\n",
       "      <td>0.531518</td>\n",
       "      <td>0.325251</td>\n",
       "    </tr>\n",
       "    <tr>\n",
       "      <th>356</th>\n",
       "      <td>0.517224</td>\n",
       "      <td>0.367553</td>\n",
       "    </tr>\n",
       "    <tr>\n",
       "      <th>296</th>\n",
       "      <td>0.495744</td>\n",
       "      <td>0.389659</td>\n",
       "    </tr>\n",
       "    <tr>\n",
       "      <th>...</th>\n",
       "      <td>...</td>\n",
       "      <td>...</td>\n",
       "    </tr>\n",
       "    <tr>\n",
       "      <th>235</th>\n",
       "      <td>0.101249</td>\n",
       "      <td>0.055281</td>\n",
       "    </tr>\n",
       "    <tr>\n",
       "      <th>1242</th>\n",
       "      <td>0.100931</td>\n",
       "      <td>0.050805</td>\n",
       "    </tr>\n",
       "    <tr>\n",
       "      <th>1907</th>\n",
       "      <td>0.100772</td>\n",
       "      <td>0.039805</td>\n",
       "    </tr>\n",
       "    <tr>\n",
       "      <th>3527</th>\n",
       "      <td>0.100613</td>\n",
       "      <td>0.056879</td>\n",
       "    </tr>\n",
       "    <tr>\n",
       "      <th>2761</th>\n",
       "      <td>0.100135</td>\n",
       "      <td>0.039855</td>\n",
       "    </tr>\n",
       "  </tbody>\n",
       "</table>\n",
       "<p>273 rows × 2 columns</p>\n",
       "</div>"
      ],
      "text/plain": [
       "          similar       all\n",
       "movieId                    \n",
       "1        1.000000  0.235415\n",
       "318      0.549604  0.440215\n",
       "260      0.531518  0.325251\n",
       "356      0.517224  0.367553\n",
       "296      0.495744  0.389659\n",
       "...           ...       ...\n",
       "235      0.101249  0.055281\n",
       "1242     0.100931  0.050805\n",
       "1907     0.100772  0.039805\n",
       "3527     0.100613  0.056879\n",
       "2761     0.100135  0.039855\n",
       "\n",
       "[273 rows x 2 columns]"
      ]
     },
     "execution_count": 38,
     "metadata": {},
     "output_type": "execute_result"
    }
   ],
   "source": [
    "rec_percent = pd.concat([similar_user_rec,all_user_rec],axis = 1)\n",
    "rec_percent.columns = ['similar','all']\n",
    "rec_percent  # rec_percent -> recommendation_percent"
   ]
  },
  {
   "cell_type": "code",
   "execution_count": 39,
   "id": "d4414bc8",
   "metadata": {},
   "outputs": [
    {
     "data": {
      "text/html": [
       "<div>\n",
       "<style scoped>\n",
       "    .dataframe tbody tr th:only-of-type {\n",
       "        vertical-align: middle;\n",
       "    }\n",
       "\n",
       "    .dataframe tbody tr th {\n",
       "        vertical-align: top;\n",
       "    }\n",
       "\n",
       "    .dataframe thead th {\n",
       "        text-align: right;\n",
       "    }\n",
       "</style>\n",
       "<table border=\"1\" class=\"dataframe\">\n",
       "  <thead>\n",
       "    <tr style=\"text-align: right;\">\n",
       "      <th></th>\n",
       "      <th>similar</th>\n",
       "      <th>all</th>\n",
       "      <th>score</th>\n",
       "    </tr>\n",
       "    <tr>\n",
       "      <th>movieId</th>\n",
       "      <th></th>\n",
       "      <th></th>\n",
       "      <th></th>\n",
       "    </tr>\n",
       "  </thead>\n",
       "  <tbody>\n",
       "    <tr>\n",
       "      <th>1</th>\n",
       "      <td>1.000000</td>\n",
       "      <td>0.235415</td>\n",
       "      <td>4.247819</td>\n",
       "    </tr>\n",
       "    <tr>\n",
       "      <th>3114</th>\n",
       "      <td>0.328914</td>\n",
       "      <td>0.102241</td>\n",
       "      <td>3.217054</td>\n",
       "    </tr>\n",
       "    <tr>\n",
       "      <th>78499</th>\n",
       "      <td>0.161924</td>\n",
       "      <td>0.057710</td>\n",
       "      <td>2.805840</td>\n",
       "    </tr>\n",
       "    <tr>\n",
       "      <th>2355</th>\n",
       "      <td>0.191095</td>\n",
       "      <td>0.068978</td>\n",
       "      <td>2.770367</td>\n",
       "    </tr>\n",
       "    <tr>\n",
       "      <th>2081</th>\n",
       "      <td>0.120714</td>\n",
       "      <td>0.047128</td>\n",
       "      <td>2.561408</td>\n",
       "    </tr>\n",
       "    <tr>\n",
       "      <th>...</th>\n",
       "      <td>...</td>\n",
       "      <td>...</td>\n",
       "      <td>...</td>\n",
       "    </tr>\n",
       "    <tr>\n",
       "      <th>99114</th>\n",
       "      <td>0.112732</td>\n",
       "      <td>0.091209</td>\n",
       "      <td>1.235967</td>\n",
       "    </tr>\n",
       "    <tr>\n",
       "      <th>2959</th>\n",
       "      <td>0.351826</td>\n",
       "      <td>0.292519</td>\n",
       "      <td>1.202745</td>\n",
       "    </tr>\n",
       "    <tr>\n",
       "      <th>6016</th>\n",
       "      <td>0.118380</td>\n",
       "      <td>0.099007</td>\n",
       "      <td>1.195678</td>\n",
       "    </tr>\n",
       "    <tr>\n",
       "      <th>109487</th>\n",
       "      <td>0.117426</td>\n",
       "      <td>0.102603</td>\n",
       "      <td>1.144469</td>\n",
       "    </tr>\n",
       "    <tr>\n",
       "      <th>79132</th>\n",
       "      <td>0.209870</td>\n",
       "      <td>0.184916</td>\n",
       "      <td>1.134951</td>\n",
       "    </tr>\n",
       "  </tbody>\n",
       "</table>\n",
       "<p>273 rows × 3 columns</p>\n",
       "</div>"
      ],
      "text/plain": [
       "          similar       all     score\n",
       "movieId                              \n",
       "1        1.000000  0.235415  4.247819\n",
       "3114     0.328914  0.102241  3.217054\n",
       "78499    0.161924  0.057710  2.805840\n",
       "2355     0.191095  0.068978  2.770367\n",
       "2081     0.120714  0.047128  2.561408\n",
       "...           ...       ...       ...\n",
       "99114    0.112732  0.091209  1.235967\n",
       "2959     0.351826  0.292519  1.202745\n",
       "6016     0.118380  0.099007  1.195678\n",
       "109487   0.117426  0.102603  1.144469\n",
       "79132    0.209870  0.184916  1.134951\n",
       "\n",
       "[273 rows x 3 columns]"
      ]
     },
     "execution_count": 39,
     "metadata": {},
     "output_type": "execute_result"
    }
   ],
   "source": [
    "#calculating score of a movie = ratio of similar %age to all user %age\n",
    "rec_percent['score'] = rec_percent['similar']/rec_percent['all']\n",
    "rec_percent.sort_values(ascending=False,by ='score',inplace =True)\n",
    "rec_percent"
   ]
  },
  {
   "cell_type": "code",
   "execution_count": 40,
   "id": "d1e6b2f6",
   "metadata": {
    "scrolled": true
   },
   "outputs": [
    {
     "data": {
      "text/html": [
       "<div>\n",
       "<style scoped>\n",
       "    .dataframe tbody tr th:only-of-type {\n",
       "        vertical-align: middle;\n",
       "    }\n",
       "\n",
       "    .dataframe tbody tr th {\n",
       "        vertical-align: top;\n",
       "    }\n",
       "\n",
       "    .dataframe thead th {\n",
       "        text-align: right;\n",
       "    }\n",
       "</style>\n",
       "<table border=\"1\" class=\"dataframe\">\n",
       "  <thead>\n",
       "    <tr style=\"text-align: right;\">\n",
       "      <th></th>\n",
       "      <th>similar</th>\n",
       "      <th>all</th>\n",
       "      <th>score</th>\n",
       "      <th>movieId</th>\n",
       "      <th>title</th>\n",
       "      <th>genres</th>\n",
       "      <th>clean_title</th>\n",
       "    </tr>\n",
       "  </thead>\n",
       "  <tbody>\n",
       "    <tr>\n",
       "      <th>0</th>\n",
       "      <td>1.000000</td>\n",
       "      <td>0.235415</td>\n",
       "      <td>4.247819</td>\n",
       "      <td>1</td>\n",
       "      <td>Toy Story (1995)</td>\n",
       "      <td>Adventure|Animation|Children|Comedy|Fantasy</td>\n",
       "      <td>Toy Story</td>\n",
       "    </tr>\n",
       "    <tr>\n",
       "      <th>3021</th>\n",
       "      <td>0.328914</td>\n",
       "      <td>0.102241</td>\n",
       "      <td>3.217054</td>\n",
       "      <td>3114</td>\n",
       "      <td>Toy Story 2 (1999)</td>\n",
       "      <td>Adventure|Animation|Children|Comedy|Fantasy</td>\n",
       "      <td>Toy Story</td>\n",
       "    </tr>\n",
       "    <tr>\n",
       "      <th>14813</th>\n",
       "      <td>0.161924</td>\n",
       "      <td>0.057710</td>\n",
       "      <td>2.805840</td>\n",
       "      <td>78499</td>\n",
       "      <td>Toy Story 3 (2010)</td>\n",
       "      <td>Adventure|Animation|Children|Comedy|Fantasy|IMAX</td>\n",
       "      <td>Toy Story</td>\n",
       "    </tr>\n",
       "    <tr>\n",
       "      <th>2264</th>\n",
       "      <td>0.191095</td>\n",
       "      <td>0.068978</td>\n",
       "      <td>2.770367</td>\n",
       "      <td>2355</td>\n",
       "      <td>Bug's Life, A (1998)</td>\n",
       "      <td>Adventure|Animation|Children|Comedy</td>\n",
       "      <td>Bugs Life A</td>\n",
       "    </tr>\n",
       "    <tr>\n",
       "      <th>1992</th>\n",
       "      <td>0.120714</td>\n",
       "      <td>0.047128</td>\n",
       "      <td>2.561408</td>\n",
       "      <td>2081</td>\n",
       "      <td>Little Mermaid, The (1989)</td>\n",
       "      <td>Animation|Children|Comedy|Musical|Romance</td>\n",
       "      <td>Little Mermaid The</td>\n",
       "    </tr>\n",
       "    <tr>\n",
       "      <th>1818</th>\n",
       "      <td>0.100772</td>\n",
       "      <td>0.039805</td>\n",
       "      <td>2.531636</td>\n",
       "      <td>1907</td>\n",
       "      <td>Mulan (1998)</td>\n",
       "      <td>Adventure|Animation|Children|Comedy|Drama|Musi...</td>\n",
       "      <td>Mulan</td>\n",
       "    </tr>\n",
       "    <tr>\n",
       "      <th>2669</th>\n",
       "      <td>0.100135</td>\n",
       "      <td>0.039855</td>\n",
       "      <td>2.512494</td>\n",
       "      <td>2761</td>\n",
       "      <td>Iron Giant, The (1999)</td>\n",
       "      <td>Adventure|Animation|Children|Drama|Sci-Fi</td>\n",
       "      <td>Iron Giant The</td>\n",
       "    </tr>\n",
       "    <tr>\n",
       "      <th>1005</th>\n",
       "      <td>0.128060</td>\n",
       "      <td>0.054719</td>\n",
       "      <td>2.340299</td>\n",
       "      <td>1028</td>\n",
       "      <td>Mary Poppins (1964)</td>\n",
       "      <td>Children|Comedy|Fantasy|Musical</td>\n",
       "      <td>Mary Poppins</td>\n",
       "    </tr>\n",
       "    <tr>\n",
       "      <th>1047</th>\n",
       "      <td>0.231801</td>\n",
       "      <td>0.099113</td>\n",
       "      <td>2.338762</td>\n",
       "      <td>1073</td>\n",
       "      <td>Willy Wonka &amp; the Chocolate Factory (1971)</td>\n",
       "      <td>Children|Comedy|Fantasy|Musical</td>\n",
       "      <td>Willy Wonka  the Chocolate Factory</td>\n",
       "    </tr>\n",
       "    <tr>\n",
       "      <th>1249</th>\n",
       "      <td>0.103636</td>\n",
       "      <td>0.044712</td>\n",
       "      <td>2.317855</td>\n",
       "      <td>1282</td>\n",
       "      <td>Fantasia (1940)</td>\n",
       "      <td>Animation|Children|Fantasy|Musical</td>\n",
       "      <td>Fantasia</td>\n",
       "    </tr>\n",
       "  </tbody>\n",
       "</table>\n",
       "</div>"
      ],
      "text/plain": [
       "        similar       all     score  movieId  \\\n",
       "0      1.000000  0.235415  4.247819        1   \n",
       "3021   0.328914  0.102241  3.217054     3114   \n",
       "14813  0.161924  0.057710  2.805840    78499   \n",
       "2264   0.191095  0.068978  2.770367     2355   \n",
       "1992   0.120714  0.047128  2.561408     2081   \n",
       "1818   0.100772  0.039805  2.531636     1907   \n",
       "2669   0.100135  0.039855  2.512494     2761   \n",
       "1005   0.128060  0.054719  2.340299     1028   \n",
       "1047   0.231801  0.099113  2.338762     1073   \n",
       "1249   0.103636  0.044712  2.317855     1282   \n",
       "\n",
       "                                            title  \\\n",
       "0                                Toy Story (1995)   \n",
       "3021                           Toy Story 2 (1999)   \n",
       "14813                          Toy Story 3 (2010)   \n",
       "2264                         Bug's Life, A (1998)   \n",
       "1992                   Little Mermaid, The (1989)   \n",
       "1818                                 Mulan (1998)   \n",
       "2669                       Iron Giant, The (1999)   \n",
       "1005                          Mary Poppins (1964)   \n",
       "1047   Willy Wonka & the Chocolate Factory (1971)   \n",
       "1249                              Fantasia (1940)   \n",
       "\n",
       "                                                  genres  \\\n",
       "0            Adventure|Animation|Children|Comedy|Fantasy   \n",
       "3021         Adventure|Animation|Children|Comedy|Fantasy   \n",
       "14813   Adventure|Animation|Children|Comedy|Fantasy|IMAX   \n",
       "2264                 Adventure|Animation|Children|Comedy   \n",
       "1992           Animation|Children|Comedy|Musical|Romance   \n",
       "1818   Adventure|Animation|Children|Comedy|Drama|Musi...   \n",
       "2669           Adventure|Animation|Children|Drama|Sci-Fi   \n",
       "1005                     Children|Comedy|Fantasy|Musical   \n",
       "1047                     Children|Comedy|Fantasy|Musical   \n",
       "1249                  Animation|Children|Fantasy|Musical   \n",
       "\n",
       "                               clean_title  \n",
       "0                               Toy Story   \n",
       "3021                           Toy Story    \n",
       "14813                          Toy Story    \n",
       "2264                          Bugs Life A   \n",
       "1992                   Little Mermaid The   \n",
       "1818                                Mulan   \n",
       "2669                       Iron Giant The   \n",
       "1005                         Mary Poppins   \n",
       "1047   Willy Wonka  the Chocolate Factory   \n",
       "1249                             Fantasia   "
      ]
     },
     "execution_count": 40,
     "metadata": {},
     "output_type": "execute_result"
    }
   ],
   "source": [
    "rec_percent.head(10).merge(movie,left_index=True,right_on='movieId')\n",
    "# merging rec_percent(recommendation percent) into movie dataset\n",
    "#acting rec_percent as left and movie as right while using index of rec_percent and movieId of movie to join them."
   ]
  },
  {
   "cell_type": "code",
   "execution_count": null,
   "id": "ea0a8367",
   "metadata": {},
   "outputs": [],
   "source": []
  },
  {
   "cell_type": "code",
   "execution_count": null,
   "id": "24227adb",
   "metadata": {},
   "outputs": [],
   "source": []
  }
 ],
 "metadata": {
  "kernelspec": {
   "display_name": "Python 3 (ipykernel)",
   "language": "python",
   "name": "python3"
  },
  "language_info": {
   "codemirror_mode": {
    "name": "ipython",
    "version": 3
   },
   "file_extension": ".py",
   "mimetype": "text/x-python",
   "name": "python",
   "nbconvert_exporter": "python",
   "pygments_lexer": "ipython3",
   "version": "3.11.5"
  }
 },
 "nbformat": 4,
 "nbformat_minor": 5
}
