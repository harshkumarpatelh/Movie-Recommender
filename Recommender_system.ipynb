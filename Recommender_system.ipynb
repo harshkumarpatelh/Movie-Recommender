{
 "cells": [
  {
   "cell_type": "code",
   "execution_count": 1,
   "id": "598b480c",
   "metadata": {},
   "outputs": [],
   "source": [
    "import numpy as np\n",
    "import pandas as pd\n",
    "from sklearn.feature_extraction.text import TfidfVectorizer\n",
    "from sklearn.metrics.pairwise import cosine_similarity\n",
    "import joblib\n",
    "import re\n",
    "import ipywidgets as widgets\n",
    "from IPython.display import display\n",
    "import json"
   ]
  },
  {
   "cell_type": "code",
   "execution_count": 2,
   "id": "a32fa810",
   "metadata": {},
   "outputs": [],
   "source": [
    "vector = joblib.load('vectorizer.pkl')\n",
    "vec_metric = joblib.load('vec_metric.pkl')\n",
    "movie = pd.read_csv('clean_movie.csv')\n",
    "ratings = pd.read_csv('ml-25m/ratings.csv')"
   ]
  },
  {
   "cell_type": "code",
   "execution_count": 3,
   "id": "1531638d",
   "metadata": {},
   "outputs": [
    {
     "data": {
      "text/html": [
       "<div>\n",
       "<style scoped>\n",
       "    .dataframe tbody tr th:only-of-type {\n",
       "        vertical-align: middle;\n",
       "    }\n",
       "\n",
       "    .dataframe tbody tr th {\n",
       "        vertical-align: top;\n",
       "    }\n",
       "\n",
       "    .dataframe thead th {\n",
       "        text-align: right;\n",
       "    }\n",
       "</style>\n",
       "<table border=\"1\" class=\"dataframe\">\n",
       "  <thead>\n",
       "    <tr style=\"text-align: right;\">\n",
       "      <th></th>\n",
       "      <th>movieId</th>\n",
       "      <th>clean_title</th>\n",
       "      <th>genres</th>\n",
       "    </tr>\n",
       "  </thead>\n",
       "  <tbody>\n",
       "    <tr>\n",
       "      <th>0</th>\n",
       "      <td>1</td>\n",
       "      <td>Toy Story</td>\n",
       "      <td>Adventure|Animation|Children|Comedy|Fantasy</td>\n",
       "    </tr>\n",
       "    <tr>\n",
       "      <th>1</th>\n",
       "      <td>2</td>\n",
       "      <td>Jumanji</td>\n",
       "      <td>Adventure|Children|Fantasy</td>\n",
       "    </tr>\n",
       "    <tr>\n",
       "      <th>2</th>\n",
       "      <td>3</td>\n",
       "      <td>Grumpier Old Men</td>\n",
       "      <td>Comedy|Romance</td>\n",
       "    </tr>\n",
       "    <tr>\n",
       "      <th>3</th>\n",
       "      <td>4</td>\n",
       "      <td>Waiting to Exhale</td>\n",
       "      <td>Comedy|Drama|Romance</td>\n",
       "    </tr>\n",
       "    <tr>\n",
       "      <th>4</th>\n",
       "      <td>5</td>\n",
       "      <td>Father of the Bride Part II</td>\n",
       "      <td>Comedy</td>\n",
       "    </tr>\n",
       "  </tbody>\n",
       "</table>\n",
       "</div>"
      ],
      "text/plain": [
       "   movieId                   clean_title  \\\n",
       "0        1                    Toy Story    \n",
       "1        2                      Jumanji    \n",
       "2        3             Grumpier Old Men    \n",
       "3        4            Waiting to Exhale    \n",
       "4        5  Father of the Bride Part II    \n",
       "\n",
       "                                        genres  \n",
       "0  Adventure|Animation|Children|Comedy|Fantasy  \n",
       "1                   Adventure|Children|Fantasy  \n",
       "2                               Comedy|Romance  \n",
       "3                         Comedy|Drama|Romance  \n",
       "4                                       Comedy  "
      ]
     },
     "execution_count": 3,
     "metadata": {},
     "output_type": "execute_result"
    }
   ],
   "source": [
    "movie.head()"
   ]
  },
  {
   "cell_type": "code",
   "execution_count": 4,
   "id": "bf185fc6",
   "metadata": {},
   "outputs": [],
   "source": [
    "def clean_title(title):\n",
    "    return re.sub('[^a-zA-Z0-9 ]','',title) "
   ]
  },
  {
   "cell_type": "code",
   "execution_count": 5,
   "id": "821e612b",
   "metadata": {},
   "outputs": [],
   "source": [
    "def search(title):\n",
    "    title = clean_title(title)\n",
    "    query_vec= vector.transform([title])\n",
    "    similarity = cosine_similarity(query_vec,vec_metric).flatten() # flatten is used get 1D array\n",
    "    indices = np.argpartition(similarity,-5)[-5:]\n",
    "    result  = movie.iloc[indices][::-1] # most similar listed first\n",
    "    return result"
   ]
  },
  {
   "cell_type": "code",
   "execution_count": 6,
   "id": "bd5b905c",
   "metadata": {},
   "outputs": [],
   "source": [
    "def MovieId(name):\n",
    "    result = search(name)\n",
    "    Id = result.iloc[0]['movieId']\n",
    "    return Id"
   ]
  },
  {
   "cell_type": "code",
   "execution_count": 17,
   "id": "ac1dba8d",
   "metadata": {},
   "outputs": [],
   "source": [
    "def recommendation(movieId):\n",
    "    # finding similar users and their recommendation  greater than 10%\n",
    "    similar_user = ratings[(ratings['movieId']==movieId) &(ratings['rating']>4) ]['userId'].unique()\n",
    "    similar_user_rec = ratings[(ratings['rating'] >4 ) & (ratings['userId'].isin(similar_user))]['movieId']\n",
    "    similar_user_rec = similar_user_rec.value_counts()/len(similar_user) \n",
    "    similar_user_rec = similar_user_rec[similar_user_rec >0.2]\n",
    "    \n",
    "    \n",
    "    all_user = ratings[(ratings['movieId'].isin(similar_user_rec.index)) &(ratings['rating']>4)] #list of users like the above movie\n",
    "    all_user['movieId'].value_counts() # counting how many user rated a single movie\n",
    "    all_user_rec = all_user['movieId'].value_counts()/len(all_user['userId'].unique())\n",
    "    \n",
    "    rec_percent = pd.concat([similar_user_rec,all_user_rec],axis = 1)\n",
    "    rec_percent.columns = ['similar','all']\n",
    "    \n",
    "    rec_percent['score'] = rec_percent['similar']/rec_percent['all']\n",
    "    rec_percent.sort_values(ascending=False,by ='score',inplace =True)\n",
    "    \n",
    "    #returning only top ten movie with three attributes ['score','title','genres']\n",
    "    return rec_percent.head(10).merge(movie,left_index=True,right_on='movieId')['clean_title']\n",
    "    "
   ]
  },
  {
   "cell_type": "code",
   "execution_count": 20,
   "id": "51dbf91d",
   "metadata": {},
   "outputs": [
    {
     "data": {
      "text/plain": [
       "[]"
      ]
     },
     "execution_count": 20,
     "metadata": {},
     "output_type": "execute_result"
    }
   ],
   "source": [
    "\n",
    "list(recommendation(186079))"
   ]
  },
  {
   "cell_type": "code",
   "execution_count": 11,
   "id": "24e86c6a",
   "metadata": {},
   "outputs": [
    {
     "data": {
      "application/vnd.jupyter.widget-view+json": {
       "model_id": "b06f31ae8aba42b08ec13fa5751802a2",
       "version_major": 2,
       "version_minor": 0
      },
      "text/plain": [
       "Text(value='', description='Movie Title:')"
      ]
     },
     "metadata": {},
     "output_type": "display_data"
    },
    {
     "data": {
      "application/vnd.jupyter.widget-view+json": {
       "model_id": "bfc0f3e4f637483bb5515ae44ef97e8e",
       "version_major": 2,
       "version_minor": 0
      },
      "text/plain": [
       "Output()"
      ]
     },
     "metadata": {},
     "output_type": "display_data"
    }
   ],
   "source": [
    "movie_input_name = widgets.Text(value='',description ='Movie Title:',disabled = False)\n",
    "\n",
    "recommendation_list = widgets.Output()\n",
    "\n",
    "def on_type(data):\n",
    "    with recommendation_list:\n",
    "        recommendation_list.clear_output()\n",
    "        title = data['new']\n",
    "        if len(title)>5:\n",
    "            result = search(title)\n",
    "            movieId = result.iloc[0]['movieId']  #search('the Avenger').iloc[0]['movieId'] -> getting movieId of searched movie\n",
    "            display(recommendation(movieId))\n",
    "            \n",
    "movie_input_name.observe(on_type,names ='value')\n",
    "display(movie_input_name,recommendation_list)"
   ]
  },
  {
   "cell_type": "code",
   "execution_count": null,
   "id": "f7c3d312",
   "metadata": {},
   "outputs": [],
   "source": [
    "\n"
   ]
  }
 ],
 "metadata": {
  "kernelspec": {
   "display_name": "Python 3 (ipykernel)",
   "language": "python",
   "name": "python3"
  },
  "language_info": {
   "codemirror_mode": {
    "name": "ipython",
    "version": 3
   },
   "file_extension": ".py",
   "mimetype": "text/x-python",
   "name": "python",
   "nbconvert_exporter": "python",
   "pygments_lexer": "ipython3",
   "version": "3.11.5"
  }
 },
 "nbformat": 4,
 "nbformat_minor": 5
}
